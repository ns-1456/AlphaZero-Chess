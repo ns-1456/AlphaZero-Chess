{
 "cells": [
  {
   "cell_type": "markdown",
   "metadata": {},
   "source": [
    "# AlphaZero-like Chess Model Training\n",
    "\n",
    "This notebook implements training for an AlphaZero-like chess model using PyTorch and Google Colab's GPU."
   ]
  },
  {
   "cell_type": "markdown",
   "metadata": {},
   "source": [
    "## 1. Setup Environment\n",
    "\n",
    "First, let's ensure we have GPU access and install required packages."
   ]
  },
  {
   "cell_type": "code",
   "execution_count": null,
   "metadata": {},
   "source": [
    "# Check if GPU is available\n",
    "!nvidia-smi"
   ]
  },
  {
   "cell_type": "code",
   "execution_count": null,
   "metadata": {},
   "source": [
    "# Clone your repository (replace with your repo URL)\n",
    "!git clone https://github.com/YOUR_USERNAME/AlphaZero-Chess.git\n",
    "%cd AlphaZero-Chess"
   ]
  },
  {
   "cell_type": "code",
   "execution_count": null,
   "metadata": {},
   "source": [
    "# Install dependencies\n",
    "!pip install -r requirements.txt"
   ]
  },
  {
   "cell_type": "markdown",
   "metadata": {},
   "source": [
    "## 2. Import Dependencies and Setup"
   ]
  },
  {
   "cell_type": "code",
   "execution_count": null,
   "metadata": {},
   "source": [
    "import torch\n",
    "import chess\n",
    "from model import ChessNet, encode_board\n",
    "from mcts import MCTS\n",
    "from train import train_model\n",
    "\n",
    "# Verify GPU availability\n",
    "device = torch.device('cuda' if torch.cuda.is_available() else 'cpu')\n",
    "print(f'Using device: {device}')\n",
    "if torch.cuda.is_available():\n",
    "    print(f'GPU: {torch.cuda.get_device_name(0)}')\n",
    "    print(f'Memory Available: {torch.cuda.get_device_properties(0).total_memory / 1024**3:.1f} GB')"
   ]
  },
  {
   "cell_type": "markdown",
   "metadata": {},
   "source": [
    "## 3. Configure Training Parameters\n",
    "\n",
    "Adjust these parameters based on your available compute resources:"
   ]
  },
  {
   "cell_type": "code",
   "execution_count": null,
   "metadata": {},
   "source": [
    "# Training configuration\n",
    "config = {\n",
    "    'num_iterations': 10,      # Number of training iterations\n",
    "    'games_per_iteration': 20, # Self-play games per iteration\n",
    "    'num_epochs': 5,          # Training epochs per iteration\n",
    "    'batch_size': 64,         # Batch size for training\n",
    "    'mcts_sims': 100         # MCTS simulations per move (reduced for Colab)\n",
    "}\n",
    "\n",
    "print('Training Configuration:')\n",
    "for k, v in config.items():\n",
    "    print(f'{k}: {v}')"
   ]
  },
  {
   "cell_type": "markdown",
   "metadata": {},
   "source": [
    "## 4. Start Training\n",
    "\n",
    "This will start the training process. The model will:\n",
    "1. Play self-play games using MCTS\n",
    "2. Collect training data\n",
    "3. Train on the collected data\n",
    "4. Save checkpoints after each iteration"
   ]
  },
  {
   "cell_type": "code",
   "execution_count": null,
   "metadata": {},
   "source": [
    "# Start training with configured parameters\n",
    "train_model(\n",
    "    num_iterations=config['num_iterations'],\n",
    "    games_per_iteration=config['games_per_iteration'],\n",
    "    num_epochs=config['num_epochs'],\n",
    "    batch_size=config['batch_size']\n",
    ")"
   ]
  },
  {
   "cell_type": "markdown",
   "metadata": {},
   "source": [
    "## 5. Save and Download Model\n",
    "\n",
    "After training completes, you can download the model checkpoints to your local machine."
   ]
  },
  {
   "cell_type": "code",
   "execution_count": null,
   "metadata": {},
   "source": [
    "# Zip the model checkpoints\n",
    "!zip -r model_checkpoints.zip model_checkpoint_*.pt\n",
    "\n",
    "from google.colab import files\n",
    "files.download('model_checkpoints.zip')"
   ]
  },
  {
   "cell_type": "markdown",
   "metadata": {},
   "source": [
    "## 6. Test the Model (Optional)\n",
    "\n",
    "You can test the trained model by playing a few moves:"
   ]
  },
  {
   "cell_type": "code",
   "execution_count": null,
   "metadata": {},
   "source": [
    "def test_model(model_path):\n",
    "    # Load model\n",
    "    model = ChessNet().to(device)\n",
    "    checkpoint = torch.load(model_path)\n",
    "    model.load_state_dict(checkpoint['model_state_dict'])\n",
    "    model.eval()\n",
    "    \n",
    "    # Initialize board and MCTS\n",
    "    board = chess.Board()\n",
    "    mcts = MCTS(model, num_simulations=100, device=device)\n",
    "    \n",
    "    # Play a few moves\n",
    "    for _ in range(5):\n",
    "        if board.is_game_over():\n",
    "            break\n",
    "            \n",
    "        # Get MCTS policy\n",
    "        policy = mcts.search(board)\n",
    "        \n",
    "        # Select best move\n",
    "        move_idx = policy.argmax().item()\n",
    "        for move in board.legal_moves:\n",
    "            if move_to_index(move) == move_idx:\n",
    "                print(f'Move: {move.uci()}')\n",
    "                board.push(move)\n",
    "                print(board)\n",
    "                print('\\n')\n",
    "                break\n",
    "\n",
    "# Test the final model\n",
    "test_model('model_checkpoint_10.pt')"
   ]
  }
 ],
 "metadata": {
  "accelerator": "GPU",
  "colab": {
   "name": "AlphaZero Chess Training",
   "provenance": []
  },
  "kernelspec": {
   "display_name": "Python 3",
   "language": "python",
   "name": "python3"
  },
  "language_info": {
   "codemirror_mode": {
    "name": "ipython",
    "version": 3
   },
   "file_extension": ".py",
   "mimetype": "text/x-python",
   "name": "python",
   "nbconvert_exporter": "python",
   "pygments_lexer": "ipython3",
   "version": "3.8.0"
  }
 },
 "nbformat": 4,
 "nbformat_minor": 4
}
