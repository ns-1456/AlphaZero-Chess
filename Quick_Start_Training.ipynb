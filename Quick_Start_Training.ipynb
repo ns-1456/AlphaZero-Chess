{
 "cells": [
  {
   "cell_type": "markdown",
   "metadata": {},
   "source": [
    "# Quick Start: AlphaZero Chess Training\n",
    "\n",
    "This notebook provides a step-by-step guide to train your AlphaZero chess model."
   ]
  },
  {
   "cell_type": "markdown",
   "metadata": {},
   "source": [
    "## Step 1: Enable GPU\n",
    "First, make sure you've enabled GPU:\n",
    "1. Runtime -> Change runtime type\n",
    "2. Select 'GPU' as Hardware accelerator\n",
    "3. Click Save"
   ]
  },
  {
   "cell_type": "code",
   "execution_count": null,
   "metadata": {},
   "source": [
    "# Verify GPU is available\n",
    "!nvidia-smi"
   ]
  },
  {
   "cell_type": "markdown",
   "metadata": {},
   "source": [
    "## Step 2: Clone Repository\n",
    "Get the latest version of your code"
   ]
  },
  {
   "cell_type": "code",
   "execution_count": null,
   "metadata": {},
   "source": [
    "!git clone https://github.com/ns-1456/AlphaZero-Chess.git\n",
    "%cd AlphaZero-Chess"
   ]
  },
  {
   "cell_type": "markdown",
   "metadata": {},
   "source": [
    "## Step 3: Install Dependencies\n",
    "Install required packages"
   ]
  },
  {
   "cell_type": "code",
   "execution_count": null,
   "metadata": {},
   "source": [
    "!pip install numpy>=1.21.0 torch>=1.9.0 python-chess>=1.0.0 tqdm>=4.62.0"
   ]
  },
  {
   "cell_type": "markdown",
   "metadata": {},
   "source": [
    "## Step 4: Import Libraries\n",
    "Import necessary modules and check GPU setup"
   ]
  },
  {
   "cell_type": "code",
   "execution_count": null,
   "metadata": {},
   "source": [
    "import torch\n",
    "import chess\n",
    "from model import ChessNet\n",
    "from mcts import MCTS\n",
    "from train import train_model\n",
    "\n",
    "# Check GPU setup\n",
    "device = torch.device('cuda' if torch.cuda.is_available() else 'cpu')\n",
    "print(f'Using device: {device}')\n",
    "if torch.cuda.is_available():\n",
    "    print(f'GPU: {torch.cuda.get_device_name(0)}')\n",
    "    print(f'Memory Available: {torch.cuda.get_device_properties(0).total_memory / 1024**3:.1f} GB')"
   ]
  },
  {
   "cell_type": "markdown",
   "metadata": {},
   "source": [
    "## Step 5: Configure Training\n",
    "Set training parameters (starting with smaller values for testing)"
   ]
  },
  {
   "cell_type": "code",
   "execution_count": null,
   "metadata": {},
   "source": [
    "# Training configuration\n",
    "config = {\n",
    "    'num_iterations': 2,      # Start with just 2 iterations for testing\n",
    "    'games_per_iteration': 5,  # 5 games per iteration\n",
    "    'num_epochs': 3,          # 3 training epochs per iteration\n",
    "    'batch_size': 64          # Batch size of 64\n",
    "}\n",
    "\n",
    "print('Training Configuration:')\n",
    "for k, v in config.items():\n",
    "    print(f'{k}: {v}')"
   ]
  },
  {
   "cell_type": "markdown",
   "metadata": {},
   "source": [
    "## Step 6: Start Training\n",
    "Run the training process with configured parameters.\n",
    "\n",
    "Note: This is a test run with minimal parameters. Once successful, you can increase the values for full training."
   ]
  },
  {
   "cell_type": "code",
   "execution_count": null,
   "metadata": {},
   "source": [
    "# Start training\n",
    "train_model(\n",
    "    num_iterations=config['num_iterations'],\n",
    "    games_per_iteration=config['games_per_iteration'],\n",
    "    num_epochs=config['num_epochs'],\n",
    "    batch_size=config['batch_size']\n",
    ")"
   ]
  },
  {
   "cell_type": "markdown",
   "metadata": {},
   "source": [
    "## Step 7: Save Model (Optional)\n",
    "Download the trained model checkpoints"
   ]
  },
  {
   "cell_type": "code",
   "execution_count": null,
   "metadata": {},
   "source": [
    "# Zip and download model checkpoints\n",
    "!zip -r model_checkpoints.zip model_checkpoint_*.pt\n",
    "\n",
    "from google.colab import files\n",
    "files.download('model_checkpoints.zip')"
   ]
  },
  {
   "cell_type": "markdown",
   "metadata": {},
   "source": [
    "## Next Steps\n",
    "\n",
    "If the test run is successful, you can increase the training parameters for full training:\n",
    "1. num_iterations: 10-50\n",
    "2. games_per_iteration: 20-100\n",
    "3. num_epochs: 5-10\n",
    "\n",
    "Just update the values in the config dictionary and run the training cell again."
   ]
  }
 ],
 "metadata": {
  "accelerator": "GPU",
  "colab": {
   "name": "Quick Start AlphaZero Chess Training",
   "provenance": []
  },
  "kernelspec": {
   "display_name": "Python 3",
   "language": "python",
   "name": "python3"
  }
 },
 "nbformat": 4,
 "nbformat_minor": 4
}
